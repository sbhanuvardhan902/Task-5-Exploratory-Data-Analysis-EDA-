{
 "cells": [
  {
   "cell_type": "code",
   "execution_count": null,
   "id": "c39cfa24",
   "metadata": {},
   "outputs": [],
   "source": [
    "import pandas as pd\n",
    "import numpy as np\n",
    "import matplotlib.pyplot as plt\n",
    "import seaborn as sns\n",
    "\n",
    "# Set style for plots\n",
    "sns.set(style=\"whitegrid\")\n"
   ]
  },
  {
   "cell_type": "code",
   "execution_count": null,
   "id": "411a7fc8",
   "metadata": {},
   "outputs": [],
   "source": [
    "# Load the original dataset\n",
    "df = pd.read_csv('train (3).csv')  # Update path if needed\n",
    "\n",
    "# Check missing values\n",
    "print(\"Missing values before cleaning:\")\n",
    "print(df.isnull().sum())\n",
    "\n",
    "# Handle missing values\n",
    "# For numeric columns -> fill with median\n",
    "num_cols = df.select_dtypes(include=[np.number]).columns\n",
    "df[num_cols] = df[num_cols].apply(lambda x: x.fillna(x.median()))\n",
    "\n",
    "# For categorical columns -> fill with mode\n",
    "cat_cols = df.select_dtypes(include=['object']).columns\n",
    "for col in cat_cols:\n",
    "    df[col] = df[col].fillna(df[col].mode()[0])\n",
    "\n",
    "# Confirm no missing values remain\n",
    "print(\"\\nMissing values after cleaning:\")\n",
    "print(df.isnull().sum())\n"
   ]
  },
  {
   "cell_type": "code",
   "execution_count": null,
   "id": "a1164e91",
   "metadata": {},
   "outputs": [],
   "source": [
    "# Dataset Information\n",
    "print(\"\\nDataset Information:\")\n",
    "df.info()\n"
   ]
  },
  {
   "cell_type": "code",
   "execution_count": null,
   "id": "cc7d2b08",
   "metadata": {},
   "outputs": [],
   "source": [
    "# Statistical Description\n",
    "print(\"\\nStatistical Description:\")\n",
    "print(df.describe())\n"
   ]
  },
  {
   "cell_type": "code",
   "execution_count": null,
   "id": "b844236d",
   "metadata": {},
   "outputs": [],
   "source": [
    "# Value Counts for Categorical Variables\n",
    "print(\"\\nValue Counts for Categorical Variables:\")\n",
    "for col in df.select_dtypes(include=['object']).columns:\n",
    "    print(f\"\\nColumn: {col}\")\n",
    "    print(df[col].value_counts())\n"
   ]
  },
  {
   "cell_type": "code",
   "execution_count": null,
   "id": "46e0f96c",
   "metadata": {},
   "outputs": [],
   "source": [
    "# Histograms for Numerical Features\n",
    "df.hist(figsize=(15, 10), bins=30, edgecolor='black')\n",
    "plt.suptitle('Histograms of Numerical Features', fontsize=16)\n",
    "plt.show()\n"
   ]
  },
  {
   "cell_type": "code",
   "execution_count": null,
   "id": "9226b06b",
   "metadata": {},
   "outputs": [],
   "source": [
    "# Boxplots for Outliers\n",
    "num_cols = df.select_dtypes(include=[np.number]).columns\n",
    "plt.figure(figsize=(15, 10))\n",
    "for i, col in enumerate(num_cols, 1):\n",
    "    plt.subplot(3, 3, i)\n",
    "    sns.boxplot(x=df[col])\n",
    "    plt.title(f'Boxplot of {col}')\n",
    "plt.tight_layout()\n",
    "plt.show()\n"
   ]
  },
  {
   "cell_type": "code",
   "execution_count": null,
   "id": "7f67e4a4",
   "metadata": {},
   "outputs": [],
   "source": [
    "# Pairplot to visualize relationships\n",
    "sns.pairplot(df)\n",
    "plt.suptitle('Pairplot of Features', y=1.02)\n",
    "plt.show()\n"
   ]
  },
  {
   "cell_type": "code",
   "execution_count": null,
   "id": "3fcb7cce",
   "metadata": {},
   "outputs": [],
   "source": [
    "# Correlation Matrix Heatmap\n",
    "plt.figure(figsize=(12, 8))\n",
    "correlation_matrix = df.corr()\n",
    "sns.heatmap(correlation_matrix, annot=True, cmap='coolwarm', fmt='.2f')\n",
    "plt.title('Correlation Matrix Heatmap')\n",
    "plt.show()\n"
   ]
  },
  {
   "cell_type": "markdown",
   "id": "96a99730",
   "metadata": {},
   "source": [
    "# Final Summary\n",
    "- Handled missing values without dropping data (numeric: filled with median, categorical: filled with mode).\n",
    "- Verified data types and missing values.\n",
    "- Explored distributions with histograms.\n",
    "- Detected outliers using boxplots.\n",
    "- Analyzed feature relationships with pairplots.\n",
    "- Visualized feature correlations using a heatmap.\n"
   ]
  },
  {
   "cell_type": "code",
   "execution_count": null,
   "id": "f2185755",
   "metadata": {},
   "outputs": [],
   "source": [
    "\n",
    "# Boxplots to check for outliers (dynamic layout)\n",
    "num_cols = df.select_dtypes(include=[np.number]).columns\n",
    "n_cols = 3\n",
    "n_rows = int(np.ceil(len(num_cols) / n_cols))\n",
    "\n",
    "plt.figure(figsize=(n_cols*5, n_rows*4))\n",
    "for i, col in enumerate(num_cols, 1):\n",
    "    plt.subplot(n_rows, n_cols, i)\n",
    "    sns.boxplot(x=df[col])\n",
    "    plt.title(f'Boxplot of {col}')\n",
    "\n",
    "plt.tight_layout()\n",
    "plt.show()\n"
   ]
  },
  {
   "cell_type": "code",
   "execution_count": null,
   "id": "fa4a2210",
   "metadata": {},
   "outputs": [],
   "source": [
    "\n",
    "# Scatterplots to check relationships between important numeric columns\n",
    "important_cols = ['magnitude', 'depth', 'latitude', 'longitude']  # Example columns\n",
    "\n",
    "for i in range(len(important_cols)):\n",
    "    for j in range(i+1, len(important_cols)):\n",
    "        plt.figure(figsize=(6, 4))\n",
    "        sns.scatterplot(x=df[important_cols[i]], y=df[important_cols[j]])\n",
    "        plt.title(f'Scatterplot: {important_cols[i]} vs {important_cols[j]}')\n",
    "        plt.xlabel(important_cols[i])\n",
    "        plt.ylabel(important_cols[j])\n",
    "        plt.show()\n"
   ]
  }
 ],
 "metadata": {},
 "nbformat": 4,
 "nbformat_minor": 5
}
