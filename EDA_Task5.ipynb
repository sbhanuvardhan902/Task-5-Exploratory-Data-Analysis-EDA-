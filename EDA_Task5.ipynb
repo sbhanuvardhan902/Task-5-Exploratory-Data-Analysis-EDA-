{
 "cells": [
  {
   "cell_type": "code",
   "execution_count": null,
   "id": "9ad2c131",
   "metadata": {},
   "outputs": [],
   "source": [
    "import pandas as pd\n",
    "import numpy as np\n",
    "import matplotlib.pyplot as plt\n",
    "import seaborn as sns\n",
    "\n",
    "# Set style for plots\n",
    "sns.set(style=\"whitegrid\")\n"
   ]
  },
  {
   "cell_type": "code",
   "execution_count": null,
   "id": "9192e348",
   "metadata": {},
   "outputs": [],
   "source": [
    "# Load the dataset\n",
    "df = pd.read_csv('/mnt/data/train (3).csv')\n",
    "\n",
    "# Basic information\n",
    "print(\"\\nDataset Information:\")\n",
    "df.info()\n"
   ]
  },
  {
   "cell_type": "code",
   "execution_count": null,
   "id": "f31bad72",
   "metadata": {},
   "outputs": [],
   "source": [
    "# Statistical summary\n",
    "print(\"\\nStatistical Description:\")\n",
    "print(df.describe())\n"
   ]
  },
  {
   "cell_type": "code",
   "execution_count": null,
   "id": "625f4de7",
   "metadata": {},
   "outputs": [],
   "source": [
    "# Checking value counts for categorical variables\n",
    "print(\"\\nValue Counts for Categorical Variables:\")\n",
    "for col in df.select_dtypes(include=['object']).columns:\n",
    "    print(f\"\\nColumn: {col}\")\n",
    "    print(df[col].value_counts())\n"
   ]
  },
  {
   "cell_type": "code",
   "execution_count": null,
   "id": "77d903ef",
   "metadata": {},
   "outputs": [],
   "source": [
    "# Histograms for numerical features\n",
    "df.hist(figsize=(15, 10), bins=30, edgecolor='black')\n",
    "plt.suptitle('Histograms of Numerical Features', fontsize=16)\n",
    "plt.show()\n"
   ]
  },
  {
   "cell_type": "code",
   "execution_count": null,
   "id": "0bed6c2f",
   "metadata": {},
   "outputs": [],
   "source": [
    "# Boxplots to check for outliers\n",
    "num_cols = df.select_dtypes(include=[np.number]).columns\n",
    "plt.figure(figsize=(15, 10))\n",
    "for i, col in enumerate(num_cols, 1):\n",
    "    plt.subplot(3, 3, i)\n",
    "    sns.boxplot(x=df[col])\n",
    "    plt.title(f'Boxplot of {col}')\n",
    "plt.tight_layout()\n",
    "plt.show()\n"
   ]
  },
  {
   "cell_type": "code",
   "execution_count": null,
   "id": "6ace43a3",
   "metadata": {},
   "outputs": [],
   "source": [
    "# Pairplot to visualize relationships\n",
    "sns.pairplot(df)\n",
    "plt.suptitle('Pairplot of Features', y=1.02)\n",
    "plt.show()\n"
   ]
  },
  {
   "cell_type": "code",
   "execution_count": null,
   "id": "06b76ed6",
   "metadata": {},
   "outputs": [],
   "source": [
    "# Correlation heatmap\n",
    "plt.figure(figsize=(12, 8))\n",
    "correlation_matrix = df.corr()\n",
    "sns.heatmap(correlation_matrix, annot=True, cmap='coolwarm', fmt='.2f')\n",
    "plt.title('Correlation Matrix Heatmap')\n",
    "plt.show()\n"
   ]
  },
  {
   "cell_type": "markdown",
   "id": "5cb42a9a",
   "metadata": {},
   "source": [
    "# Final Summary\n",
    "- Data types verified, missing values (if any) identified.\n",
    "- Distribution of numerical features explored with histograms.\n",
    "- Outliers detected via boxplots.\n",
    "- Pairwise relationships visualized.\n",
    "- Correlation among features analyzed.\n",
    "- Key patterns and potential issues noted.\n"
   ]
  }
 ],
 "metadata": {},
 "nbformat": 4,
 "nbformat_minor": 5
}
